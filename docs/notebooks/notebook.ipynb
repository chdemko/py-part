{
 "cells": [
  {
   "cell_type": "markdown",
   "metadata": {},
   "source": [
    "Intervals\n",
    "======="
   ]
  },
  {
   "cell_type": "code",
   "execution_count": null,
   "metadata": {},
   "outputs": [],
   "source": [
    "from part import Interval, Atomic"
   ]
  },
  {
   "cell_type": "markdown",
   "metadata": {},
   "source": [
    "Construction\n",
    "------------------\n",
    "\n",
    "An interval can be created using:\n",
    "\n",
    "* the constructor\n",
    "* static methods"
   ]
  },
  {
   "cell_type": "code",
   "execution_count": null,
   "metadata": {},
   "outputs": [],
   "source": [
    "print(Interval(lower_value=10, upper_value=20))"
   ]
  },
  {
   "cell_type": "code",
   "execution_count": null,
   "metadata": {},
   "outputs": [],
   "source": [
    "print(Interval(lower_value=\"abc\", upper_value=\"def\", upper_closed=True))"
   ]
  },
  {
   "cell_type": "code",
   "execution_count": null,
   "metadata": {},
   "outputs": [],
   "source": [
    "print(Interval(lower_closed=None, lower_value=10, upper_value=20))"
   ]
  },
  {
   "cell_type": "code",
   "execution_count": null,
   "metadata": {},
   "outputs": [],
   "source": [
    "print(Interval())"
   ]
  },
  {
   "cell_type": "code",
   "execution_count": null,
   "metadata": {},
   "outputs": [],
   "source": [
    "print(Atomic.from_tuple((10, 20)))"
   ]
  },
  {
   "cell_type": "code",
   "execution_count": null,
   "metadata": {},
   "outputs": [],
   "source": [
    "print(Atomic.from_tuple((10, 20, None)))"
   ]
  },
  {
   "cell_type": "code",
   "execution_count": null,
   "metadata": {},
   "outputs": [],
   "source": [
    "print(Atomic.from_tuple((10, 20, None, True)))"
   ]
  },
  {
   "cell_type": "code",
   "execution_count": null,
   "metadata": {},
   "outputs": [],
   "source": [
    "print(Atomic.from_value(10))"
   ]
  },
  {
   "cell_type": "code",
   "execution_count": null,
   "metadata": {},
   "outputs": [],
   "source": [
    "print(Interval.lower_limit(value=10))"
   ]
  },
  {
   "cell_type": "code",
   "execution_count": null,
   "metadata": {},
   "outputs": [],
   "source": [
    "print(Interval.lower_limit(value=10, closed=None))"
   ]
  },
  {
   "cell_type": "code",
   "execution_count": null,
   "metadata": {},
   "outputs": [],
   "source": [
    "print(Interval.upper_limit(value=10))"
   ]
  },
  {
   "cell_type": "code",
   "execution_count": null,
   "metadata": {},
   "outputs": [],
   "source": [
    "print(Interval.upper_limit(value=10, closed=True))"
   ]
  },
  {
   "cell_type": "markdown",
   "metadata": {},
   "source": [
    "Properties\n",
    "---------------\n",
    "\n",
    "Properties can be easily accessed."
   ]
  },
  {
   "cell_type": "code",
   "execution_count": null,
   "metadata": {},
   "outputs": [],
   "source": [
    "a = Atomic.from_tuple((10, 20, None))\n",
    "print(a.lower)\n",
    "print(a.lower_value)\n",
    "print(a.lower_closed)\n",
    "print(a.upper)\n",
    "print(a.upper_value)\n",
    "print(a.upper_closed)"
   ]
  },
  {
   "cell_type": "markdown",
   "metadata": {},
   "source": [
    "Comparison\n",
    "----------------\n",
    "\n",
    "Intervals can be compared using Allen's algebra:"
   ]
  },
  {
   "cell_type": "code",
   "execution_count": null,
   "metadata": {},
   "outputs": [],
   "source": [
    "a = Atomic.from_tuple((10, 20, None))"
   ]
  },
  {
   "cell_type": "code",
   "execution_count": null,
   "metadata": {},
   "outputs": [],
   "source": [
    "a.meets(Atomic.from_tuple((20, 30)))"
   ]
  },
  {
   "cell_type": "code",
   "execution_count": null,
   "metadata": {},
   "outputs": [],
   "source": [
    "a.meets(Atomic.from_tuple((20, 30)), strict=False)"
   ]
  },
  {
   "cell_type": "code",
   "execution_count": null,
   "metadata": {},
   "outputs": [],
   "source": [
    "a.overlaps(Atomic.from_tuple((15, 30)))"
   ]
  },
  {
   "cell_type": "code",
   "execution_count": null,
   "metadata": {},
   "outputs": [],
   "source": [
    "a.starts(Atomic.from_tuple((20, 40, None)))"
   ]
  },
  {
   "cell_type": "code",
   "execution_count": null,
   "metadata": {},
   "outputs": [],
   "source": [
    "a.starts(Atomic.from_tuple((10, 40, None)), strict=False)"
   ]
  },
  {
   "cell_type": "code",
   "execution_count": null,
   "metadata": {},
   "outputs": [],
   "source": [
    "a.during(Atomic.from_tuple((0, 30)))"
   ]
  },
  {
   "cell_type": "code",
   "execution_count": null,
   "metadata": {},
   "outputs": [],
   "source": [
    "a.finishes(Atomic.from_tuple((0, 20)))"
   ]
  },
  {
   "cell_type": "markdown",
   "metadata": {},
   "source": [
    "Operations\n",
    "---------------\n",
    "\n",
    "Intervals support set operation: union, intersection and complement. These operations produce instance of `FrozenSetInterval`."
   ]
  },
  {
   "cell_type": "code",
   "execution_count": null,
   "metadata": {},
   "outputs": [],
   "source": [
    "a = Atomic.from_tuple((10, 20, None))\n",
    "b = Atomic.from_tuple((15, 30))\n",
    "c = Atomic.from_tuple((30, 40))"
   ]
  },
  {
   "cell_type": "code",
   "execution_count": null,
   "metadata": {},
   "outputs": [],
   "source": [
    "print(a | b)\n",
    "print(a | c)\n",
    "print(a & b)\n",
    "print(a & c)\n",
    "print(a - b)\n",
    "print(a ^ b)\n",
    "print(~a)"
   ]
  },
  {
   "cell_type": "markdown",
   "metadata": {},
   "source": [
    "Interval sets\n",
    "==========\n",
    "\n",
    "There exists two versions of interval sets:\n",
    "\n",
    "* `FrozenIntervalSet`\n",
    "* `MutableIntervalSet`\n",
    "\n",
    "`FrozenIntervalSet` is slightly more efficient than `MutableIntervalSet`.\n",
    "\n",
    "Frozen Interval Set\n",
    "---------------------------"
   ]
  },
  {
   "cell_type": "code",
   "execution_count": null,
   "metadata": {},
   "outputs": [],
   "source": [
    "from part import FrozenIntervalSet"
   ]
  },
  {
   "cell_type": "markdown",
   "metadata": {},
   "source": [
    "### Construction\n",
    "\n",
    "A frozen interval set can be constructed using an iterable of interval-like values."
   ]
  },
  {
   "cell_type": "code",
   "execution_count": null,
   "metadata": {},
   "outputs": [],
   "source": [
    "a = FrozenIntervalSet([2, (6, 7), (8, 9, None), (10, 11, True, True)])"
   ]
  },
  {
   "cell_type": "code",
   "execution_count": null,
   "metadata": {},
   "outputs": [],
   "source": [
    "print(a)"
   ]
  },
  {
   "cell_type": "markdown",
   "metadata": {},
   "source": [
    "### Properties\n",
    "\n",
    "* the number of intervals can be known using the standard function `len`;\n",
    "* iteration over a set of intervals is obtained by using the standard function `iter`;\n",
    "* the intervals are accessible using their indices."
   ]
  },
  {
   "cell_type": "code",
   "execution_count": null,
   "metadata": {},
   "outputs": [],
   "source": [
    "print(len(a))\n",
    "print([str(interval) for interval in a])\n",
    "print(a[0])\n",
    "print(a[2])\n",
    "print(a[1:3])"
   ]
  },
  {
   "cell_type": "markdown",
   "metadata": {},
   "source": [
    "### Comparison"
   ]
  },
  {
   "cell_type": "markdown",
   "metadata": {},
   "source": [
    "Interval set can be compared using the set comparison operators."
   ]
  },
  {
   "cell_type": "code",
   "execution_count": null,
   "metadata": {},
   "outputs": [],
   "source": [
    "a = FrozenIntervalSet([2, (6, 7), (8, 9, None), (10, 11, True, True)])\n",
    "b = FrozenIntervalSet([(0, 7), (8, 13)])\n",
    "print(a)\n",
    "print(b)"
   ]
  },
  {
   "cell_type": "code",
   "execution_count": null,
   "metadata": {},
   "outputs": [],
   "source": [
    "a <= b"
   ]
  },
  {
   "cell_type": "code",
   "execution_count": null,
   "metadata": {},
   "outputs": [],
   "source": [
    "a < b"
   ]
  },
  {
   "cell_type": "code",
   "execution_count": null,
   "metadata": {},
   "outputs": [],
   "source": [
    "a == b"
   ]
  },
  {
   "cell_type": "code",
   "execution_count": null,
   "metadata": {},
   "outputs": [],
   "source": [
    "a >= b"
   ]
  },
  {
   "cell_type": "code",
   "execution_count": null,
   "metadata": {},
   "outputs": [],
   "source": [
    "a > b"
   ]
  },
  {
   "cell_type": "markdown",
   "metadata": {},
   "source": [
    "### Operations\n",
    "\n",
    "Classical set operations are defined."
   ]
  },
  {
   "cell_type": "code",
   "execution_count": null,
   "metadata": {},
   "outputs": [],
   "source": [
    "a = FrozenIntervalSet([(2, 8), (10, 11, True, True)])\n",
    "b = FrozenIntervalSet([(0, 7), (8, 13)])\n",
    "print(a)\n",
    "print(b)"
   ]
  },
  {
   "cell_type": "code",
   "execution_count": null,
   "metadata": {},
   "outputs": [],
   "source": [
    "print((10,13) in a)\n",
    "print((10,13) in b)\n",
    "print(a | b)\n",
    "print(a.union(b))\n",
    "print(a & b)\n",
    "print(a.intersection(b))"
   ]
  },
  {
   "cell_type": "code",
   "execution_count": null,
   "metadata": {},
   "outputs": [],
   "source": [
    "print(~a)"
   ]
  },
  {
   "cell_type": "code",
   "execution_count": null,
   "metadata": {},
   "outputs": [],
   "source": [
    "print(a - b)\n",
    "print(a.difference(b))\n",
    "print(a ^ b)\n",
    "print(a.symmetric_difference(b))"
   ]
  },
  {
   "cell_type": "markdown",
   "metadata": {},
   "source": [
    "### Selection"
   ]
  },
  {
   "cell_type": "code",
   "execution_count": null,
   "metadata": {},
   "outputs": [],
   "source": [
    "a = FrozenIntervalSet([2, (6, 7), (8, 10, None), (11, 13, True, True)])"
   ]
  },
  {
   "cell_type": "code",
   "execution_count": null,
   "metadata": {},
   "outputs": [],
   "source": [
    "print([str(interval) for interval in a.select((5, 9))])"
   ]
  },
  {
   "cell_type": "code",
   "execution_count": null,
   "metadata": {},
   "outputs": [],
   "source": [
    "print([str(interval) for interval in a.select((2, 9))])"
   ]
  },
  {
   "cell_type": "code",
   "execution_count": null,
   "metadata": {},
   "outputs": [],
   "source": [
    "print([str(interval) for interval in a.select((2, 9), strict=False)])"
   ]
  },
  {
   "cell_type": "markdown",
   "metadata": {},
   "source": [
    "Mutable Interval Set\n",
    "----------------------------\n",
    "\n",
    "In addition to frozen interval set operations, the mutable interval set implements method that can modify the set."
   ]
  },
  {
   "cell_type": "code",
   "execution_count": null,
   "metadata": {},
   "outputs": [],
   "source": [
    "from part import MutableIntervalSet"
   ]
  },
  {
   "cell_type": "markdown",
   "metadata": {},
   "source": [
    "### Element operations"
   ]
  },
  {
   "cell_type": "code",
   "execution_count": null,
   "metadata": {},
   "outputs": [],
   "source": [
    "a = MutableIntervalSet([2, (6, 7), (8, 10, None), (11, 13, True, True)])\n",
    "print(a)\n",
    "a.add((2, 6))\n",
    "print(a)"
   ]
  },
  {
   "cell_type": "code",
   "execution_count": null,
   "metadata": {},
   "outputs": [],
   "source": [
    "a = MutableIntervalSet([2, (6, 7), (8, 10, None), (11, 13, True, True)])\n",
    "print(a)\n",
    "a.discard((2, 8))\n",
    "print(a)"
   ]
  },
  {
   "cell_type": "code",
   "execution_count": null,
   "metadata": {},
   "outputs": [],
   "source": [
    "a = MutableIntervalSet([2, (6, 7), (8, 10, None), (11, 13, True, True)])\n",
    "print(a)\n",
    "try:\n",
    "    a.remove((2, 8))\n",
    "except KeyError as e:\n",
    "    print(e)"
   ]
  },
  {
   "cell_type": "code",
   "execution_count": null,
   "metadata": {},
   "outputs": [],
   "source": [
    "a = MutableIntervalSet([2, (6, 7), (8, 10, None), (11, 13, True, True)])\n",
    "print(a)\n",
    "print(a.pop())\n",
    "print(a)"
   ]
  },
  {
   "cell_type": "code",
   "execution_count": null,
   "metadata": {},
   "outputs": [],
   "source": [
    "a = MutableIntervalSet([2, (6, 7), (8, 10, None), (11, 13, True, True)])\n",
    "print(a)\n",
    "a.clear()\n",
    "print(a)"
   ]
  },
  {
   "cell_type": "markdown",
   "metadata": {},
   "source": [
    "### Set operations"
   ]
  },
  {
   "cell_type": "code",
   "execution_count": null,
   "metadata": {},
   "outputs": [],
   "source": [
    "a = MutableIntervalSet([2, (6, 7), (8, 10, None), (11, 13, True, True)])\n",
    "b = MutableIntervalSet([(0, 7), (8, 12)])\n",
    "print(a)\n",
    "print(b)\n",
    "a.update(b)\n",
    "print(a)\n",
    "a |= MutableIntervalSet([(7, 8)])\n",
    "print(a)"
   ]
  },
  {
   "cell_type": "code",
   "execution_count": null,
   "metadata": {},
   "outputs": [],
   "source": [
    "a = MutableIntervalSet([2, (6, 7), (8, 10, None), (11, 13, True, True)])\n",
    "b = MutableIntervalSet([(0, 7), (8, 12)])\n",
    "print(a)\n",
    "print(b)\n",
    "a.intersection_update(b)\n",
    "print(a)\n",
    "a &= MutableIntervalSet([(6, 11)])\n",
    "print(a)"
   ]
  },
  {
   "cell_type": "code",
   "execution_count": null,
   "metadata": {},
   "outputs": [],
   "source": [
    "a = MutableIntervalSet([2, (6, 7), (8, 10, None), (11, 13, True, True)])\n",
    "b = MutableIntervalSet([(0, 7), (8, 12)])\n",
    "print(a)\n",
    "print(b)\n",
    "a.difference_update(b)\n",
    "print(a)\n",
    "a -= MutableIntervalSet([12])\n",
    "print(a)"
   ]
  },
  {
   "cell_type": "code",
   "execution_count": null,
   "metadata": {},
   "outputs": [],
   "source": [
    "a = MutableIntervalSet([2, (6, 7), (8, 10, None), (11, 13, True, True)])\n",
    "b = MutableIntervalSet([(0, 7), (8, 12)])\n",
    "print(a)\n",
    "print(b)\n",
    "a.symmetric_difference_update(b)\n",
    "print(a)\n",
    "a ^= MutableIntervalSet([(8,12)])\n",
    "print(a)"
   ]
  },
  {
   "cell_type": "markdown",
   "metadata": {},
   "source": [
    "Interval dicts\n",
    "==============\n",
    "\n",
    "There exists two versions of interval dicts:\n",
    "\n",
    "* `FrozenIntervalDict`\n",
    "* `MutableIntervalDict`\n",
    "\n",
    "`FrozenIntervalDict` is slightly more efficient than `MutableIntervalDict`.\n",
    "\n",
    "Frozen Interval Dict\n",
    "--------------------"
   ]
  },
  {
   "cell_type": "code",
   "execution_count": null,
   "metadata": {},
   "outputs": [],
   "source": [
    "from part import FrozenIntervalDict"
   ]
  },
  {
   "cell_type": "markdown",
   "metadata": {},
   "source": [
    "### Construction\n",
    "\n",
    "A frozen interval dict can be constructed using an iterable."
   ]
  },
  {
   "cell_type": "code",
   "execution_count": null,
   "metadata": {},
   "outputs": [],
   "source": [
    "print(FrozenIntervalDict({(10, 15): 1, (20, 25): 2, (30, 35): 3}))"
   ]
  },
  {
   "cell_type": "code",
   "execution_count": null,
   "metadata": {},
   "outputs": [],
   "source": [
    "print(FrozenIntervalDict([((10, 15), 1), ((20, 25), 2), ((30, 35), 3)]))"
   ]
  },
  {
   "cell_type": "markdown",
   "metadata": {},
   "source": [
    "### Properties\n",
    "\n",
    "* the number of intervals can be known using the standard function `len`;\n",
    "* iteration over a dict of intervals is obtained by using the standard function `iter`;\n",
    "* the values are accessible using their intervals;\n",
    "* new dict can be created using the slice notation."
   ]
  },
  {
   "cell_type": "code",
   "execution_count": null,
   "metadata": {},
   "outputs": [],
   "source": [
    "a = FrozenIntervalDict({(10, 15): 1, (20, 25): 2, (30, 35): 3})\n",
    "print(len(a))\n",
    "print([str(interval) for interval in a])\n",
    "print(a[(10, 15)])\n",
    "print(a[(11, 12)])\n",
    "print((11, 12) in a)\n",
    "print((12, 17) in a)\n",
    "try:\n",
    "    print(a[(12, 17)])\n",
    "except KeyError as e:\n",
    "    print(e)\n",
    "print(a[12:32])"
   ]
  },
  {
   "cell_type": "markdown",
   "metadata": {},
   "source": [
    "### Iteration\n",
    "\n",
    "\n",
    "As for classical python dictionaries, methods `keys`, `values` and `items` are available. "
   ]
  },
  {
   "cell_type": "code",
   "execution_count": null,
   "metadata": {},
   "outputs": [],
   "source": [
    "a = FrozenIntervalDict({(10, 15): 1, (20, 25): 2, (30, 35): 3})\n",
    "print([str(interval) for interval in a.keys()])\n",
    "print([str(value) for value in a.values()])\n",
    "print([f\"{interval}:{value}\" for interval, value in a.items()])"
   ]
  },
  {
   "cell_type": "markdown",
   "metadata": {},
   "source": [
    "### Selection"
   ]
  },
  {
   "cell_type": "code",
   "execution_count": null,
   "metadata": {},
   "outputs": [],
   "source": [
    "a = FrozenIntervalDict({(10, 15): 1, (20, 25): 2, (30, 35): 3})\n",
    "print([str(interval) for interval in a.select((12, 26))])\n",
    "print([str(interval) for interval in a.select((12, 22), strict=False)])"
   ]
  },
  {
   "cell_type": "markdown",
   "metadata": {},
   "source": [
    "### Compression"
   ]
  },
  {
   "cell_type": "code",
   "execution_count": null,
   "metadata": {},
   "outputs": [],
   "source": [
    "a = FrozenIntervalDict({(10, 15): 1, (14, 25): 1, (30, 35): 2, (33, 45): 2})\n",
    "print(a)\n",
    "print(a.compress())"
   ]
  },
  {
   "cell_type": "markdown",
   "metadata": {},
   "source": [
    "Mutable Interval Dict\n",
    "--------------------"
   ]
  },
  {
   "cell_type": "code",
   "execution_count": null,
   "metadata": {},
   "outputs": [],
   "source": [
    "from part import MutableIntervalDict"
   ]
  },
  {
   "cell_type": "markdown",
   "metadata": {},
   "source": [
    "### Modify items"
   ]
  },
  {
   "cell_type": "code",
   "execution_count": null,
   "metadata": {},
   "outputs": [],
   "source": [
    "a = MutableIntervalDict({(10, 15): 1, (20, 25): 2, (30, 35): 3})\n",
    "print(a)\n",
    "a[12] = 4\n",
    "print(a)\n",
    "a[14:22] = 5\n",
    "print(a)\n",
    "del a[12:22]\n",
    "print(a)"
   ]
  },
  {
   "cell_type": "markdown",
   "metadata": {},
   "source": [
    "### Update"
   ]
  },
  {
   "cell_type": "code",
   "execution_count": null,
   "metadata": {},
   "outputs": [],
   "source": [
    "a = MutableIntervalDict(\n",
    "    {(10, 15): 1, (20, 25): 2, (30, 35): 3},\n",
    "    update=lambda x, y: x + y\n",
    ")\n",
    "a |= MutableIntervalDict({(14, 21): 2})\n",
    "print(a)"
   ]
  },
  {
   "cell_type": "markdown",
   "metadata": {},
   "source": [
    "### Clear"
   ]
  },
  {
   "cell_type": "code",
   "execution_count": null,
   "metadata": {},
   "outputs": [],
   "source": [
    "a = MutableIntervalDict({(10, 15): 1, (20, 25): 2, (30, 35): 3})\n",
    "print(a)\n",
    "a.clear()\n",
    "print(a)"
   ]
  }
 ],
 "metadata": {
  "kernelspec": {
   "display_name": "Python 3",
   "language": "python",
   "name": "python3"
  },
  "language_info": {
   "codemirror_mode": {
    "name": "ipython",
    "version": 3
   },
   "file_extension": ".py",
   "mimetype": "text/x-python",
   "name": "python",
   "nbconvert_exporter": "python",
   "pygments_lexer": "ipython3",
   "version": "3"
  }
 },
 "nbformat": 4,
 "nbformat_minor": 4
}
